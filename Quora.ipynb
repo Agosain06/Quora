{
 "cells": [
  {
   "cell_type": "code",
   "execution_count": 22,
   "id": "2566e10e",
   "metadata": {},
   "outputs": [],
   "source": [
    "import numpy as np\n",
    "import pandas as pd\n",
    "import random\n",
    "from collections import Counter\n",
    "import pprint\n",
    "import time\n",
    "import tensorflow as tf\n",
    "import sys\n",
    "from sklearn.utils import shuffle \n",
    "from sklearn.model_selection import train_test_split\n",
    "import matplotlib.pyplot as plt\n",
    "from keras import Sequential\n",
    "from keras.layers import Dense"
   ]
  },
  {
   "cell_type": "code",
   "execution_count": 5,
   "id": "c328e4fe",
   "metadata": {},
   "outputs": [],
   "source": [
    "train = pd.read_csv('train.csv')"
   ]
  },
  {
   "cell_type": "code",
   "execution_count": 6,
   "id": "0288d5fe",
   "metadata": {},
   "outputs": [
    {
     "data": {
      "text/plain": [
       "0"
      ]
     },
     "execution_count": 6,
     "metadata": {},
     "output_type": "execute_result"
    }
   ],
   "source": [
    "train.isnull().sum().sum()"
   ]
  },
  {
   "cell_type": "code",
   "execution_count": 7,
   "id": "7ad4f281",
   "metadata": {},
   "outputs": [
    {
     "name": "stdout",
     "output_type": "stream",
     "text": [
      "983801  :  Not Spam\n",
      "64774  :  Spam\n"
     ]
    }
   ],
   "source": [
    "print(len(train[train[\"target\"]==0]), \" :  Not Spam\")\n",
    "print(len(train[train[\"target\"]==1]), \" :  Spam\")"
   ]
  },
  {
   "cell_type": "code",
   "execution_count": 9,
   "id": "7153a192",
   "metadata": {},
   "outputs": [],
   "source": [
    "SAMPLE_SIZE = 50000\n",
    "df_0 = train[train[\"target\"]==0].sample(SAMPLE_SIZE, random_state = 101)\n",
    "df_1 = train[train[\"target\"]==1].sample(SAMPLE_SIZE, random_state = 101)\n",
    "df = pd.concat([df_0, df_1], axis=0).reset_index(drop=True)\n",
    "df= shuffle(df)\n",
    "df_data, df_test = train_test_split(df, test_size=0.2)"
   ]
  },
  {
   "cell_type": "code",
   "execution_count": 10,
   "id": "be068d50",
   "metadata": {},
   "outputs": [],
   "source": [
    "non_spam_counts = Counter()\n",
    "spam_counts = Counter()\n",
    "total_counts = Counter()\n",
    "pp = pprint.PrettyPrinter(indent=4)"
   ]
  },
  {
   "cell_type": "code",
   "execution_count": 11,
   "id": "001bcd56",
   "metadata": {},
   "outputs": [],
   "source": [
    "for i in range(len(df_data)):  \n",
    "    if(df_data.iloc[i][2] == 0):\n",
    "        for word in df_data.iloc[i][1].split(\" \"):\n",
    "            non_spam_counts[word] += 1\n",
    "            total_counts[word] += 1\n",
    "    else:\n",
    "        for word in df_data.iloc[i][1].split(\" \"):\n",
    "            spam_counts[word] += 1\n",
    "            total_counts[word] += 1"
   ]
  },
  {
   "cell_type": "code",
   "execution_count": 12,
   "id": "d89529f6",
   "metadata": {},
   "outputs": [
    {
     "name": "stdout",
     "output_type": "stream",
     "text": [
      "The most used word in spam questions: \n",
      "[   ('the', 25311),\n",
      "    ('to', 17425),\n",
      "    ('Why', 15990),\n",
      "    ('and', 13738),\n",
      "    ('a', 13203),\n",
      "    ('of', 12245),\n",
      "    ('in', 10204),\n",
      "    ('is', 9431),\n",
      "    ('are', 9074),\n",
      "    ('do', 9027),\n",
      "    ('that', 7722),\n",
      "    ('it', 5543),\n",
      "    ('they', 5496),\n",
      "    ('I', 5484),\n",
      "    ('people', 5395),\n",
      "    ('for', 5238),\n",
      "    ('with', 4601),\n",
      "    ('so', 4272),\n",
      "    ('you', 4258),\n",
      "    ('their', 4232)]\n"
     ]
    }
   ],
   "source": [
    "print(\"The most used word in spam questions: \")\n",
    "pp.pprint(spam_counts.most_common()[0:20])"
   ]
  },
  {
   "cell_type": "code",
   "execution_count": 13,
   "id": "83e411c6",
   "metadata": {},
   "outputs": [
    {
     "name": "stdout",
     "output_type": "stream",
     "text": [
      "The most used word in non spam questions: \n",
      "[   ('the', 19742),\n",
      "    ('What', 13385),\n",
      "    ('a', 12217),\n",
      "    ('to', 12003),\n",
      "    ('in', 11187),\n",
      "    ('is', 10152),\n",
      "    ('of', 10133),\n",
      "    ('I', 9726),\n",
      "    ('How', 8475),\n",
      "    ('and', 7257),\n",
      "    ('are', 6265),\n",
      "    ('do', 6069),\n",
      "    ('for', 5989),\n",
      "    ('you', 5783),\n",
      "    ('can', 3905),\n",
      "    ('Why', 3538),\n",
      "    ('it', 3412),\n",
      "    ('my', 3235),\n",
      "    ('Is', 3169),\n",
      "    ('that', 2861)]\n"
     ]
    }
   ],
   "source": [
    "print(\"The most used word in non spam questions: \")\n",
    "pp.pprint(non_spam_counts.most_common()[0:20])"
   ]
  },
  {
   "cell_type": "code",
   "execution_count": 14,
   "id": "3741bc33",
   "metadata": {},
   "outputs": [
    {
     "name": "stdout",
     "output_type": "stream",
     "text": [
      "The most used word in all questions: \n",
      "[   ('the', 45053),\n",
      "    ('to', 29428),\n",
      "    ('a', 25420),\n",
      "    ('of', 22378),\n",
      "    ('in', 21391),\n",
      "    ('and', 20995),\n",
      "    ('is', 19583),\n",
      "    ('Why', 19528),\n",
      "    ('What', 16436),\n",
      "    ('are', 15339),\n",
      "    ('I', 15210),\n",
      "    ('do', 15096),\n",
      "    ('How', 12224),\n",
      "    ('for', 11227),\n",
      "    ('that', 10583),\n",
      "    ('you', 10041),\n",
      "    ('it', 8955),\n",
      "    ('with', 7332),\n",
      "    ('Is', 7313),\n",
      "    ('be', 6601)]\n"
     ]
    }
   ],
   "source": [
    "print(\"The most used word in all questions: \")\n",
    "pp.pprint(total_counts.most_common()[0:20])"
   ]
  },
  {
   "cell_type": "code",
   "execution_count": 16,
   "id": "dd74a90e",
   "metadata": {},
   "outputs": [
    {
     "name": "stdout",
     "output_type": "stream",
     "text": [
      "90772\n"
     ]
    }
   ],
   "source": [
    "#transforming text into numbers\n",
    "vocab = set(total_counts.keys())\n",
    "print(len(vocab))"
   ]
  },
  {
   "cell_type": "code",
   "execution_count": 17,
   "id": "0de2ec57",
   "metadata": {},
   "outputs": [
    {
     "name": "stdout",
     "output_type": "stream",
     "text": [
      "(1, 200)\n",
      "array([[0., 0., 0., 0., 0., 0., 0., 0., 0., 0., 0., 0., 0., 0., 0., 0.,\n",
      "        0., 0., 0., 0., 0., 0., 0., 0., 0., 0., 0., 0., 0., 0., 0., 0.,\n",
      "        0., 0., 0., 0., 0., 0., 0., 0., 0., 0., 0., 0., 0., 0., 0., 0.,\n",
      "        0., 0., 0., 0., 0., 0., 0., 0., 0., 0., 0., 0., 0., 0., 0., 0.,\n",
      "        0., 0., 0., 0., 0., 0., 0., 0., 0., 0., 0., 0., 0., 0., 0., 0.,\n",
      "        0., 0., 0., 0., 0., 0., 0., 0., 0., 0., 0., 0., 0., 0., 0., 0.,\n",
      "        0., 0., 0., 0., 0., 0., 0., 0., 0., 0., 0., 0., 0., 0., 0., 0.,\n",
      "        0., 0., 0., 0., 0., 0., 0., 0., 0., 0., 0., 0., 0., 0., 0., 0.,\n",
      "        0., 0., 0., 0., 0., 0., 0., 0., 0., 0., 0., 0., 0., 0., 0., 0.,\n",
      "        0., 0., 0., 0., 0., 0., 0., 0., 0., 0., 0., 0., 0., 0., 0., 0.,\n",
      "        0., 0., 0., 0., 0., 0., 0., 0., 0., 0., 0., 0., 0., 0., 0., 0.,\n",
      "        0., 0., 0., 0., 0., 0., 0., 0., 0., 0., 0., 0., 0., 0., 0., 0.,\n",
      "        0., 0., 0., 0., 0., 0., 0., 0.]])\n"
     ]
    }
   ],
   "source": [
    "vocab_vector = np.zeros((1, 200)) \n",
    "pp.pprint(vocab_vector.shape)\n",
    "pp.pprint(vocab_vector)"
   ]
  },
  {
   "cell_type": "code",
   "execution_count": 19,
   "id": "eee4c99c",
   "metadata": {},
   "outputs": [
    {
     "data": {
      "text/plain": [
       "{'the': 0,\n",
       " 'to': 1,\n",
       " 'a': 2,\n",
       " 'of': 3,\n",
       " 'in': 4,\n",
       " 'and': 5,\n",
       " 'is': 6,\n",
       " 'Why': 7,\n",
       " 'What': 8,\n",
       " 'are': 9,\n",
       " 'I': 10,\n",
       " 'do': 11,\n",
       " 'How': 12,\n",
       " 'for': 13,\n",
       " 'that': 14,\n",
       " 'you': 15,\n",
       " 'it': 16,\n",
       " 'with': 17,\n",
       " 'Is': 18,\n",
       " 'be': 19,\n",
       " 'people': 20,\n",
       " 'have': 21,\n",
       " 'on': 22,\n",
       " 'they': 23,\n",
       " 'or': 24,\n",
       " 'can': 25,\n",
       " 'my': 26,\n",
       " 'their': 27,\n",
       " 'so': 28,\n",
       " 'as': 29,\n",
       " 'from': 30,\n",
       " 'not': 31,\n",
       " 'if': 32,\n",
       " 'an': 33,\n",
       " 'does': 34,\n",
       " 'like': 35,\n",
       " 'when': 36,\n",
       " 'Do': 37,\n",
       " 'by': 38,\n",
       " 'about': 39,\n",
       " 'get': 40,\n",
       " 'your': 41,\n",
       " 'would': 42,\n",
       " 'there': 43,\n",
       " 'Are': 44,\n",
       " 'If': 45,\n",
       " 'will': 46,\n",
       " 'who': 47,\n",
       " 'all': 48,\n",
       " 'at': 49,\n",
       " 'we': 50,\n",
       " 'some': 51,\n",
       " 'Trump': 52,\n",
       " 'think': 53,\n",
       " 'than': 54,\n",
       " 'Can': 55,\n",
       " 'more': 56,\n",
       " 'was': 57,\n",
       " 'should': 58,\n",
       " 'many': 59,\n",
       " 'women': 60,\n",
       " 'best': 61,\n",
       " 'but': 62,\n",
       " 'did': 63,\n",
       " 'what': 64,\n",
       " 'this': 65,\n",
       " 'most': 66,\n",
       " 'any': 67,\n",
       " 'has': 68,\n",
       " 'why': 69,\n",
       " 'he': 70,\n",
       " 'other': 71,\n",
       " 'just': 72,\n",
       " \"don't\": 73,\n",
       " 'his': 74,\n",
       " 'Indian': 75,\n",
       " 'Which': 76,\n",
       " 'make': 77,\n",
       " 'good': 78,\n",
       " 'how': 79,\n",
       " 'being': 80,\n",
       " 'me': 81,\n",
       " 'men': 82,\n",
       " 'want': 83,\n",
       " 'one': 84,\n",
       " 'white': 85,\n",
       " 'Does': 86,\n",
       " 'them': 87,\n",
       " 'after': 88,\n",
       " 'Quora': 89,\n",
       " 'out': 90,\n",
       " 'Muslims': 91,\n",
       " 'India': 92,\n",
       " 'much': 93,\n",
       " 'were': 94,\n",
       " 'because': 95,\n",
       " 'Should': 96,\n",
       " 'only': 97,\n",
       " 'know': 98,\n",
       " 'Americans': 99,\n",
       " 'up': 100,\n",
       " 'black': 101,\n",
       " 'no': 102,\n",
       " 'feel': 103,\n",
       " 'When': 104,\n",
       " 'sex': 105,\n",
       " 'hate': 106,\n",
       " 'girls': 107,\n",
       " 'even': 108,\n",
       " 'against': 109,\n",
       " 'ever': 110,\n",
       " 'use': 111,\n",
       " 'become': 112,\n",
       " 'been': 113,\n",
       " 'Indians': 114,\n",
       " 'am': 115,\n",
       " 'Who': 116,\n",
       " 'her': 117,\n",
       " 'take': 118,\n",
       " 'still': 119,\n",
       " 'into': 120,\n",
       " 'between': 121,\n",
       " 'Will': 122,\n",
       " 'US': 123,\n",
       " 'really': 124,\n",
       " 'which': 125,\n",
       " 'American': 126,\n",
       " 'way': 127,\n",
       " 'Chinese': 128,\n",
       " 'someone': 129,\n",
       " 'India?': 130,\n",
       " 'had': 131,\n",
       " 'such': 132,\n",
       " 'over': 133,\n",
       " 'our': 134,\n",
       " 'better': 135,\n",
       " 'find': 136,\n",
       " 'go': 137,\n",
       " 'while': 138,\n",
       " 'without': 139,\n",
       " 'say': 140,\n",
       " 'then': 141,\n",
       " 'Where': 142,\n",
       " 'world': 143,\n",
       " 'Muslim': 144,\n",
       " 'time': 145,\n",
       " 'liberals': 146,\n",
       " 'it?': 147,\n",
       " 'believe': 148,\n",
       " 'she': 149,\n",
       " 'true': 150,\n",
       " 'own': 151,\n",
       " 'Would': 152,\n",
       " 'Did': 153,\n",
       " 'Donald': 154,\n",
       " 'see': 155,\n",
       " 'its': 156,\n",
       " 'people?': 157,\n",
       " 'stop': 158,\n",
       " \"can't\": 159,\n",
       " 'always': 160,\n",
       " 'same': 161,\n",
       " 'could': 162,\n",
       " 'need': 163,\n",
       " \"I'm\": 164,\n",
       " 'country': 165,\n",
       " 'person': 166,\n",
       " 'give': 167,\n",
       " 'come': 168,\n",
       " 'love': 169,\n",
       " 'right': 170,\n",
       " 'old': 171,\n",
       " 'questions': 172,\n",
       " 'them?': 173,\n",
       " 'life': 174,\n",
       " 'work': 175,\n",
       " 'every': 176,\n",
       " 'having': 177,\n",
       " 'year': 178,\n",
       " 'going': 179,\n",
       " 'The': 180,\n",
       " 'before': 181,\n",
       " '&': 182,\n",
       " 'start': 183,\n",
       " 'countries': 184,\n",
       " 'possible': 185,\n",
       " 'during': 186,\n",
       " 'America': 187,\n",
       " 'look': 188,\n",
       " 'anyone': 189,\n",
       " 'years': 190,\n",
       " 'long': 191,\n",
       " 'bad': 192,\n",
       " 'never': 193,\n",
       " 'him': 194,\n",
       " 'government': 195,\n",
       " 'man': 196,\n",
       " 'live': 197,\n",
       " 'In': 198,\n",
       " 'mean': 199}"
      ]
     },
     "execution_count": 19,
     "metadata": {},
     "output_type": "execute_result"
    }
   ],
   "source": [
    "word_column_dict = {}\n",
    "p=0\n",
    "for word,count in list(total_counts.most_common()[0:200]):\n",
    "    word_column_dict[word] = p\n",
    "    p+=1\n",
    "word_column_dict"
   ]
  },
  {
   "cell_type": "code",
   "execution_count": 20,
   "id": "4a47fa7b",
   "metadata": {},
   "outputs": [
    {
     "name": "stdout",
     "output_type": "stream",
     "text": [
      "[2.0, 0.0, 0.0, 0.0, 0.0, 0.0, 0.0, 0.0, 0.0, 0.0, 0.0, 0.0, 0.0, 0.0, 0.0, 0.0, 0.0, 0.0, 0.0, 0.0, 0.0, 0.0, 0.0, 0.0, 0.0, 0.0, 0.0, 0.0, 0.0, 0.0, 0.0, 0.0, 0.0, 0.0, 0.0, 0.0, 0.0, 0.0, 0.0, 0.0, 0.0, 0.0, 0.0, 0.0, 0.0, 0.0, 0.0, 0.0, 0.0, 0.0, 0.0, 0.0, 0.0, 0.0, 0.0, 0.0, 0.0, 0.0, 0.0, 0.0, 0.0, 0.0, 0.0, 0.0, 0.0, 0.0, 0.0, 0.0, 0.0, 0.0, 0.0, 0.0, 0.0, 0.0, 0.0, 0.0, 0.0, 0.0, 0.0, 0.0, 0.0, 0.0, 0.0, 0.0, 0.0, 0.0, 0.0, 0.0, 0.0, 0.0, 0.0, 0.0, 0.0, 0.0, 0.0, 0.0, 0.0, 0.0, 0.0, 0.0, 0.0, 0.0, 0.0, 0.0, 0.0, 0.0, 0.0, 0.0, 0.0, 0.0, 0.0, 0.0, 0.0, 0.0, 0.0, 0.0, 0.0, 0.0, 0.0, 0.0, 0.0, 0.0, 0.0, 0.0, 0.0, 0.0, 0.0, 0.0, 0.0, 0.0, 0.0, 0.0, 0.0, 0.0, 0.0, 0.0, 0.0, 0.0, 0.0, 0.0, 0.0, 0.0, 0.0, 0.0, 0.0, 0.0, 0.0, 0.0, 0.0, 0.0, 0.0, 0.0, 0.0, 0.0, 0.0, 0.0, 0.0, 0.0, 0.0, 0.0, 0.0, 0.0, 0.0, 0.0, 0.0, 0.0, 0.0, 0.0, 0.0, 0.0, 0.0, 0.0, 0.0, 0.0, 0.0, 0.0, 0.0, 0.0, 0.0, 0.0, 0.0, 0.0, 0.0, 0.0, 0.0, 0.0, 0.0, 0.0, 0.0, 0.0, 0.0, 0.0, 0.0, 0.0, 0.0, 0.0, 0.0, 0.0, 0.0, 0.0]\n"
     ]
    }
   ],
   "source": [
    "def update_input_layer(text):\n",
    "    \n",
    "    global vocab_vector\n",
    "    \n",
    "    \n",
    "    vocab_vector *= 0\n",
    "    for word in text.split(\" \"):\n",
    "        if word in word_column_dict:\n",
    "            vocab_vector[0][word_column_dict[word]] += 1\n",
    "        \n",
    "    return vocab_vector.tolist()[0]\n",
    "\n",
    "print(update_input_layer(\"the the\"))"
   ]
  },
  {
   "cell_type": "code",
   "execution_count": 21,
   "id": "9fe741a5",
   "metadata": {},
   "outputs": [],
   "source": [
    "x_train = [update_input_layer(df_data.iloc[i][1]) for i in range(len(df_data))]\n",
    "y_train = [df_data.iloc[i][2] for i in range(len(df_data))]"
   ]
  },
  {
   "cell_type": "code",
   "execution_count": 24,
   "id": "29f1f191",
   "metadata": {},
   "outputs": [
    {
     "name": "stdout",
     "output_type": "stream",
     "text": [
      "Model: \"sequential_1\"\n",
      "_________________________________________________________________\n",
      " Layer (type)                Output Shape              Param #   \n",
      "=================================================================\n",
      " dense_2 (Dense)             (None, 128)               25728     \n",
      "                                                                 \n",
      " dense_3 (Dense)             (None, 1)                 129       \n",
      "                                                                 \n",
      "=================================================================\n",
      "Total params: 25,857\n",
      "Trainable params: 25,857\n",
      "Non-trainable params: 0\n",
      "_________________________________________________________________\n"
     ]
    }
   ],
   "source": [
    "model = Sequential()\n",
    "model.add(Dense(128,input_dim=200, activation=tf.nn.relu))\n",
    "model.add(Dense(1, activation=tf.nn.sigmoid))\n",
    "model.compile(optimizer='adam', loss='binary_crossentropy',  metrics=['accuracy'])\n",
    "model.summary()"
   ]
  },
  {
   "cell_type": "code",
   "execution_count": 25,
   "id": "1d585581",
   "metadata": {},
   "outputs": [
    {
     "name": "stdout",
     "output_type": "stream",
     "text": [
      "Epoch 1/100\n",
      "2500/2500 [==============================] - 7s 3ms/step - loss: 0.4431 - accuracy: 0.7973\n",
      "Epoch 2/100\n",
      "2500/2500 [==============================] - 6s 2ms/step - loss: 0.4146 - accuracy: 0.8128\n",
      "Epoch 3/100\n",
      "2500/2500 [==============================] - 6s 2ms/step - loss: 0.4021 - accuracy: 0.8205\n",
      "Epoch 4/100\n",
      "2500/2500 [==============================] - 6s 2ms/step - loss: 0.3911 - accuracy: 0.8271\n",
      "Epoch 5/100\n",
      "2500/2500 [==============================] - 6s 2ms/step - loss: 0.3811 - accuracy: 0.8324\n",
      "Epoch 6/100\n",
      "2500/2500 [==============================] - 6s 2ms/step - loss: 0.3718 - accuracy: 0.8375\n",
      "Epoch 7/100\n",
      "2500/2500 [==============================] - 6s 2ms/step - loss: 0.3626 - accuracy: 0.8426\n",
      "Epoch 8/100\n",
      "2500/2500 [==============================] - 6s 2ms/step - loss: 0.3546 - accuracy: 0.8460\n",
      "Epoch 9/100\n",
      "2500/2500 [==============================] - 6s 2ms/step - loss: 0.3467 - accuracy: 0.8498\n",
      "Epoch 10/100\n",
      "2500/2500 [==============================] - 6s 2ms/step - loss: 0.3394 - accuracy: 0.8536\n",
      "Epoch 11/100\n",
      "2500/2500 [==============================] - 6s 2ms/step - loss: 0.3319 - accuracy: 0.8573\n",
      "Epoch 12/100\n",
      "2500/2500 [==============================] - 6s 2ms/step - loss: 0.3257 - accuracy: 0.8602\n",
      "Epoch 13/100\n",
      "2500/2500 [==============================] - 6s 2ms/step - loss: 0.3191 - accuracy: 0.8634\n",
      "Epoch 14/100\n",
      "2500/2500 [==============================] - 6s 2ms/step - loss: 0.3130 - accuracy: 0.8663\n",
      "Epoch 15/100\n",
      "2500/2500 [==============================] - 6s 2ms/step - loss: 0.3074 - accuracy: 0.8683\n",
      "Epoch 16/100\n",
      "2500/2500 [==============================] - 6s 2ms/step - loss: 0.3011 - accuracy: 0.8716\n",
      "Epoch 17/100\n",
      "2500/2500 [==============================] - 6s 2ms/step - loss: 0.2962 - accuracy: 0.8742\n",
      "Epoch 18/100\n",
      "2500/2500 [==============================] - 6s 2ms/step - loss: 0.2919 - accuracy: 0.8754\n",
      "Epoch 19/100\n",
      "2500/2500 [==============================] - 6s 2ms/step - loss: 0.2862 - accuracy: 0.8792\n",
      "Epoch 20/100\n",
      "2500/2500 [==============================] - 6s 2ms/step - loss: 0.2820 - accuracy: 0.8808\n",
      "Epoch 21/100\n",
      "2500/2500 [==============================] - 6s 2ms/step - loss: 0.2776 - accuracy: 0.8828\n",
      "Epoch 22/100\n",
      "2500/2500 [==============================] - 6s 3ms/step - loss: 0.2731 - accuracy: 0.8848\n",
      "Epoch 23/100\n",
      "2500/2500 [==============================] - 6s 2ms/step - loss: 0.2696 - accuracy: 0.8859\n",
      "Epoch 24/100\n",
      "2500/2500 [==============================] - 6s 2ms/step - loss: 0.2652 - accuracy: 0.8879\n",
      "Epoch 25/100\n",
      "2500/2500 [==============================] - 6s 2ms/step - loss: 0.2621 - accuracy: 0.8903\n",
      "Epoch 26/100\n",
      "2500/2500 [==============================] - 6s 2ms/step - loss: 0.2584 - accuracy: 0.8918\n",
      "Epoch 27/100\n",
      "2500/2500 [==============================] - 6s 2ms/step - loss: 0.2552 - accuracy: 0.8933\n",
      "Epoch 28/100\n",
      "2500/2500 [==============================] - 6s 2ms/step - loss: 0.2515 - accuracy: 0.8942\n",
      "Epoch 29/100\n",
      "2500/2500 [==============================] - 6s 3ms/step - loss: 0.2484 - accuracy: 0.8960\n",
      "Epoch 30/100\n",
      "2500/2500 [==============================] - 6s 2ms/step - loss: 0.2456 - accuracy: 0.8970\n",
      "Epoch 31/100\n",
      "2500/2500 [==============================] - 7s 3ms/step - loss: 0.2427 - accuracy: 0.8989\n",
      "Epoch 32/100\n",
      "2500/2500 [==============================] - 7s 3ms/step - loss: 0.2401 - accuracy: 0.8996\n",
      "Epoch 33/100\n",
      "2500/2500 [==============================] - 6s 2ms/step - loss: 0.2370 - accuracy: 0.9017\n",
      "Epoch 34/100\n",
      "2500/2500 [==============================] - 6s 3ms/step - loss: 0.2343 - accuracy: 0.9023\n",
      "Epoch 35/100\n",
      "2500/2500 [==============================] - 6s 2ms/step - loss: 0.2319 - accuracy: 0.9041\n",
      "Epoch 36/100\n",
      "2500/2500 [==============================] - 7s 3ms/step - loss: 0.2296 - accuracy: 0.9052\n",
      "Epoch 37/100\n",
      "2500/2500 [==============================] - 7s 3ms/step - loss: 0.2276 - accuracy: 0.9052\n",
      "Epoch 38/100\n",
      "2500/2500 [==============================] - 6s 3ms/step - loss: 0.2238 - accuracy: 0.9083\n",
      "Epoch 39/100\n",
      "2500/2500 [==============================] - 6s 3ms/step - loss: 0.2230 - accuracy: 0.9072\n",
      "Epoch 40/100\n",
      "2500/2500 [==============================] - 6s 2ms/step - loss: 0.2203 - accuracy: 0.9091\n",
      "Epoch 41/100\n",
      "2500/2500 [==============================] - 6s 2ms/step - loss: 0.2181 - accuracy: 0.9100\n",
      "Epoch 42/100\n",
      "2500/2500 [==============================] - 6s 3ms/step - loss: 0.2170 - accuracy: 0.9105\n",
      "Epoch 43/100\n",
      "2500/2500 [==============================] - 7s 3ms/step - loss: 0.2141 - accuracy: 0.9118\n",
      "Epoch 44/100\n",
      "2500/2500 [==============================] - 6s 3ms/step - loss: 0.2128 - accuracy: 0.9118\n",
      "Epoch 45/100\n",
      "2500/2500 [==============================] - 7s 3ms/step - loss: 0.2106 - accuracy: 0.9141\n",
      "Epoch 46/100\n",
      "2500/2500 [==============================] - 6s 3ms/step - loss: 0.2093 - accuracy: 0.9137\n",
      "Epoch 47/100\n",
      "2500/2500 [==============================] - 6s 3ms/step - loss: 0.2063 - accuracy: 0.9150\n",
      "Epoch 48/100\n",
      "2500/2500 [==============================] - 6s 2ms/step - loss: 0.2049 - accuracy: 0.9163\n",
      "Epoch 49/100\n",
      "2500/2500 [==============================] - 7s 3ms/step - loss: 0.2038 - accuracy: 0.9166\n",
      "Epoch 50/100\n",
      "2500/2500 [==============================] - 7s 3ms/step - loss: 0.2018 - accuracy: 0.9176\n",
      "Epoch 51/100\n",
      "2500/2500 [==============================] - 7s 3ms/step - loss: 0.1997 - accuracy: 0.9186\n",
      "Epoch 52/100\n",
      "2500/2500 [==============================] - 7s 3ms/step - loss: 0.1991 - accuracy: 0.9186\n",
      "Epoch 53/100\n",
      "2500/2500 [==============================] - 6s 3ms/step - loss: 0.1971 - accuracy: 0.9192\n",
      "Epoch 54/100\n",
      "2500/2500 [==============================] - 7s 3ms/step - loss: 0.1960 - accuracy: 0.9205\n",
      "Epoch 55/100\n",
      "2500/2500 [==============================] - 6s 3ms/step - loss: 0.1941 - accuracy: 0.9210\n",
      "Epoch 56/100\n",
      "2500/2500 [==============================] - 6s 2ms/step - loss: 0.1931 - accuracy: 0.9211\n",
      "Epoch 57/100\n",
      "2500/2500 [==============================] - 7s 3ms/step - loss: 0.1912 - accuracy: 0.9222\n",
      "Epoch 58/100\n",
      "2500/2500 [==============================] - 6s 3ms/step - loss: 0.1899 - accuracy: 0.9228\n",
      "Epoch 59/100\n",
      "2500/2500 [==============================] - 7s 3ms/step - loss: 0.1885 - accuracy: 0.9244\n",
      "Epoch 60/100\n",
      "2500/2500 [==============================] - 7s 3ms/step - loss: 0.1874 - accuracy: 0.9238\n",
      "Epoch 61/100\n",
      "2500/2500 [==============================] - 7s 3ms/step - loss: 0.1864 - accuracy: 0.9234\n",
      "Epoch 62/100\n",
      "2500/2500 [==============================] - 7s 3ms/step - loss: 0.1851 - accuracy: 0.9250\n",
      "Epoch 63/100\n",
      "2500/2500 [==============================] - 7s 3ms/step - loss: 0.1839 - accuracy: 0.9257\n",
      "Epoch 64/100\n",
      "2500/2500 [==============================] - 7s 3ms/step - loss: 0.1824 - accuracy: 0.9254\n",
      "Epoch 65/100\n",
      "2500/2500 [==============================] - 6s 3ms/step - loss: 0.1818 - accuracy: 0.9265\n",
      "Epoch 66/100\n",
      "2500/2500 [==============================] - 7s 3ms/step - loss: 0.1802 - accuracy: 0.9275\n",
      "Epoch 67/100\n",
      "2500/2500 [==============================] - 6s 2ms/step - loss: 0.1794 - accuracy: 0.9275\n",
      "Epoch 68/100\n",
      "2500/2500 [==============================] - 6s 2ms/step - loss: 0.1781 - accuracy: 0.9284\n",
      "Epoch 69/100\n",
      "2500/2500 [==============================] - 6s 3ms/step - loss: 0.1773 - accuracy: 0.9277\n",
      "Epoch 70/100\n",
      "2500/2500 [==============================] - 6s 3ms/step - loss: 0.1757 - accuracy: 0.9292\n",
      "Epoch 71/100\n",
      "2500/2500 [==============================] - 6s 2ms/step - loss: 0.1742 - accuracy: 0.9297\n",
      "Epoch 72/100\n",
      "2500/2500 [==============================] - 6s 2ms/step - loss: 0.1743 - accuracy: 0.9295\n",
      "Epoch 73/100\n",
      "2500/2500 [==============================] - 7s 3ms/step - loss: 0.1721 - accuracy: 0.9313\n",
      "Epoch 74/100\n",
      "2500/2500 [==============================] - 6s 2ms/step - loss: 0.1718 - accuracy: 0.9311\n",
      "Epoch 75/100\n",
      "2500/2500 [==============================] - 6s 2ms/step - loss: 0.1709 - accuracy: 0.9304\n",
      "Epoch 76/100\n",
      "2500/2500 [==============================] - 6s 2ms/step - loss: 0.1700 - accuracy: 0.9315\n",
      "Epoch 77/100\n",
      "2500/2500 [==============================] - 6s 2ms/step - loss: 0.1687 - accuracy: 0.9322\n",
      "Epoch 78/100\n",
      "2500/2500 [==============================] - 7s 3ms/step - loss: 0.1682 - accuracy: 0.9327\n",
      "Epoch 79/100\n"
     ]
    },
    {
     "name": "stdout",
     "output_type": "stream",
     "text": [
      "2500/2500 [==============================] - 6s 2ms/step - loss: 0.1676 - accuracy: 0.9326\n",
      "Epoch 80/100\n",
      "2500/2500 [==============================] - 6s 2ms/step - loss: 0.1659 - accuracy: 0.9329\n",
      "Epoch 81/100\n",
      "2500/2500 [==============================] - 7s 3ms/step - loss: 0.1659 - accuracy: 0.9331\n",
      "Epoch 82/100\n",
      "2500/2500 [==============================] - 7s 3ms/step - loss: 0.1647 - accuracy: 0.9330\n",
      "Epoch 83/100\n",
      "2500/2500 [==============================] - 7s 3ms/step - loss: 0.1645 - accuracy: 0.9337\n",
      "Epoch 84/100\n",
      "2500/2500 [==============================] - 7s 3ms/step - loss: 0.1634 - accuracy: 0.9344\n",
      "Epoch 85/100\n",
      "2500/2500 [==============================] - 7s 3ms/step - loss: 0.1621 - accuracy: 0.9353\n",
      "Epoch 86/100\n",
      "2500/2500 [==============================] - 8s 3ms/step - loss: 0.1609 - accuracy: 0.9356\n",
      "Epoch 87/100\n",
      "2500/2500 [==============================] - 7s 3ms/step - loss: 0.1608 - accuracy: 0.9355\n",
      "Epoch 88/100\n",
      "2500/2500 [==============================] - 7s 3ms/step - loss: 0.1606 - accuracy: 0.9350\n",
      "Epoch 89/100\n",
      "2500/2500 [==============================] - 7s 3ms/step - loss: 0.1593 - accuracy: 0.9353\n",
      "Epoch 90/100\n",
      "2500/2500 [==============================] - 7s 3ms/step - loss: 0.1580 - accuracy: 0.9364\n",
      "Epoch 91/100\n",
      "2500/2500 [==============================] - 7s 3ms/step - loss: 0.1578 - accuracy: 0.9368\n",
      "Epoch 92/100\n",
      "2500/2500 [==============================] - 7s 3ms/step - loss: 0.1573 - accuracy: 0.9365\n",
      "Epoch 93/100\n",
      "2500/2500 [==============================] - 6s 2ms/step - loss: 0.1567 - accuracy: 0.9373\n",
      "Epoch 94/100\n",
      "2500/2500 [==============================] - 6s 3ms/step - loss: 0.1556 - accuracy: 0.9377\n",
      "Epoch 95/100\n",
      "2500/2500 [==============================] - 6s 3ms/step - loss: 0.1560 - accuracy: 0.9376\n",
      "Epoch 96/100\n",
      "2500/2500 [==============================] - 6s 3ms/step - loss: 0.1552 - accuracy: 0.9377\n",
      "Epoch 97/100\n",
      "2500/2500 [==============================] - 6s 3ms/step - loss: 0.1529 - accuracy: 0.9392\n",
      "Epoch 98/100\n",
      "2500/2500 [==============================] - 6s 3ms/step - loss: 0.1528 - accuracy: 0.9388\n",
      "Epoch 99/100\n",
      "2500/2500 [==============================] - 7s 3ms/step - loss: 0.1527 - accuracy: 0.9390\n",
      "Epoch 100/100\n",
      "2500/2500 [==============================] - 7s 3ms/step - loss: 0.1516 - accuracy: 0.9393\n"
     ]
    }
   ],
   "source": [
    "history = model.fit(np.asarray(x_train), np.asarray(y_train), epochs = 100)"
   ]
  },
  {
   "cell_type": "code",
   "execution_count": 28,
   "id": "ce1d9454",
   "metadata": {},
   "outputs": [
    {
     "data": {
      "text/plain": [
       "dict_keys(['loss', 'accuracy'])"
      ]
     },
     "execution_count": 28,
     "metadata": {},
     "output_type": "execute_result"
    }
   ],
   "source": [
    "history.history.keys()"
   ]
  },
  {
   "cell_type": "code",
   "execution_count": 29,
   "id": "0b27c8aa",
   "metadata": {},
   "outputs": [
    {
     "data": {
      "image/png": "[encoded data removed]",
      "text/plain": [
       "<Figure size 432x288 with 1 Axes>"
      ]
     },
     "metadata": {
      "needs_background": "light"
     },
     "output_type": "display_data"
    }
   ],
   "source": [
    "plt.plot(history.history['accuracy'])\n",
    "plt.title('Model accuracy')\n",
    "plt.ylabel('Accuracy')\n",
    "plt.xlabel('Epoch')\n",
    "plt.legend(['Train', 'Test'], loc='upper left')\n",
    "plt.show()"
   ]
  },
  {
   "cell_type": "code",
   "execution_count": 30,
   "id": "c03f8d19",
   "metadata": {},
   "outputs": [
    {
     "data": {
      "image/png": "[encoded data removed]",
      "text/plain": [
       "<Figure size 432x288 with 1 Axes>"
      ]
     },
     "metadata": {
      "needs_background": "light"
     },
     "output_type": "display_data"
    }
   ],
   "source": [
    "plt.plot(history.history['loss'])\n",
    "plt.title('Model loss')\n",
    "plt.ylabel('Loss')\n",
    "plt.xlabel('Epoch')\n",
    "plt.legend(['Train', 'Test'], loc='upper left')\n",
    "plt.show()"
   ]
  },
  {
   "cell_type": "code",
   "execution_count": 33,
   "id": "592599f2",
   "metadata": {},
   "outputs": [
    {
     "name": "stdout",
     "output_type": "stream",
     "text": [
      "625/625 [==============================] - 1s 2ms/step\n"
     ]
    }
   ],
   "source": [
    "x_test = [update_input_layer(df_test.iloc[i][1]) for i in range(len(df_test))]\n",
    "predictions = model.predict(np.asarray(x_test))"
   ]
  },
  {
   "cell_type": "code",
   "execution_count": 34,
   "id": "301b516c",
   "metadata": {},
   "outputs": [],
   "source": [
    "k=0\n",
    "for i in range(len(df_test)):\n",
    "    if(predictions[i][0]>0.5 and df_test.iloc[i,2]==1):\n",
    "        k+=1\n",
    "    elif(predictions[i][0]<0.5 and df_test.iloc[i,2]==0):\n",
    "        k+=1"
   ]
  },
  {
   "cell_type": "code",
   "execution_count": 35,
   "id": "acbb0ab2",
   "metadata": {},
   "outputs": [
    {
     "name": "stdout",
     "output_type": "stream",
     "text": [
      "76.375 % of testing data was well predicted\n"
     ]
    }
   ],
   "source": [
    "print(k/len(df_test)*100, \"% of testing data was well predicted\") "
   ]
  },
  {
   "cell_type": "code",
   "execution_count": 36,
   "id": "31f6d722",
   "metadata": {},
   "outputs": [
    {
     "name": "stdout",
     "output_type": "stream",
     "text": [
      "type \t : \t question\n",
      "\n",
      "spam question  :Are there any left-wing debators as strong as Ben Shapiro? If so, who?===> predicted ===> non spam question \n",
      "spam question  :Why are Hindus so obsessed with cows?===> predicted   ===> spam question \n",
      "non spam question  :How do you treat a 2 year old child that cries too much?===> predicted ===> non spam question \n",
      "non spam question  :What made you stop being a free speech absolutist?===> predicted ===> non spam question \n",
      "spam question  :Are Tamils mistreated and seen as an inferior race in India?===> predicted   ===> spam question \n"
     ]
    }
   ],
   "source": [
    "print(\"type \\t : \\t question\\n\")\n",
    "for d in range(5):\n",
    "    r = random.randrange(0,len(df_test))\n",
    "    s = \"non spam question  :\"\n",
    "    q = \"===> predicted ===> non spam question \"\n",
    "    if df_test.iloc[r,2]==1:\n",
    "        s = \"spam question  :\"\n",
    "    if predictions[r][0]>0.5 : \n",
    "        q = \"===> predicted   ===> spam question \"\n",
    "        \n",
    "    print(s+df_test.iloc[r,1]+q)"
   ]
  },
  {
   "cell_type": "code",
   "execution_count": null,
   "id": "e37e819b",
   "metadata": {},
   "outputs": [],
   "source": []
  }
 ],
 "metadata": {
  "kernelspec": {
   "display_name": "Python 3 (ipykernel)",
   "language": "python",
   "name": "python3"
  },
  "language_info": {
   "codemirror_mode": {
    "name": "ipython",
    "version": 3
   },
   "file_extension": ".py",
   "mimetype": "text/x-python",
   "name": "python",
   "nbconvert_exporter": "python",
   "pygments_lexer": "ipython3",
   "version": "3.9.7"
  }
 },
 "nbformat": 4,
 "nbformat_minor": 5
}
